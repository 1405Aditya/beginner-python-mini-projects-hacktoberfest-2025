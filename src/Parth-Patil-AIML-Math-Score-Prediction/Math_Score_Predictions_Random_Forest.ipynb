{
  "nbformat": 4,
  "nbformat_minor": 0,
  "metadata": {
    "colab": {
      "provenance": []
    },
    "kernelspec": {
      "name": "python3",
      "display_name": "Python 3"
    },
    "language_info": {
      "name": "python"
    }
  },
  "cells": [
    {
      "cell_type": "code",
      "execution_count": null,
      "metadata": {
        "id": "q4SIqMeGNzRB"
      },
      "outputs": [],
      "source": [
        "import pandas as pd\n",
        "from sklearn.model_selection import train_test_split\n",
        "from sklearn.ensemble import RandomForestRegressor\n",
        "from sklearn.metrics import mean_absolute_error, mean_squared_error, r2_score\n",
        "from sklearn.preprocessing import OneHotEncoder\n",
        "from sklearn.compose import ColumnTransformer\n",
        "from sklearn.pipeline import Pipeline\n",
        "import math"
      ]
    },
    {
      "cell_type": "code",
      "source": [
        "# dataframe banana\n",
        "try:\n",
        "    train_df = pd.read_csv('train.csv')\n",
        "    test_df = pd.read_csv('test.csv')\n",
        "    print(\"File upload hogayi.\")\n",
        "except FileNotFoundError:\n",
        "    print(\"File upload karle.\")\n",
        "    exit()"
      ],
      "metadata": {
        "colab": {
          "base_uri": "https://localhost:8080/"
        },
        "id": "pgWizH-LOHLX",
        "outputId": "b108bd1d-030b-496c-e9a2-749e10952b08"
      },
      "execution_count": null,
      "outputs": [
        {
          "output_type": "stream",
          "name": "stdout",
          "text": [
            "File upload hogayi.\n"
          ]
        }
      ]
    },
    {
      "cell_type": "code",
      "source": [
        "# variable set up\n",
        "\n",
        "x_train = train_df.drop('math score', axis=1)\n",
        "y_train = train_df['math score']\n",
        "x_test = test_df.drop('math score', axis=1)\n",
        "y_test = test_df['math score']"
      ],
      "metadata": {
        "id": "B1sjgCoJOICw"
      },
      "execution_count": null,
      "outputs": []
    },
    {
      "cell_type": "code",
      "source": [
        "# finding columns on which encoding is to be performed and kispe nahi karni\n",
        "\n",
        "categorical_features = ['gender', 'race/ethnicity', 'parental level of education', 'lunch', 'test preparation course']\n",
        "numerical_features = ['reading score', 'writing score']"
      ],
      "metadata": {
        "id": "5YvdoDCTOKZ3"
      },
      "execution_count": null,
      "outputs": []
    },
    {
      "cell_type": "code",
      "source": [
        "\n",
        "preprocessor = ColumnTransformer(\n",
        "    transformers=[\n",
        "        ('num', 'passthrough', numerical_features),\n",
        "        ('cat', OneHotEncoder(handle_unknown='ignore'), categorical_features)\n",
        "    ])"
      ],
      "metadata": {
        "id": "M1GVbCApOPEG"
      },
      "execution_count": null,
      "outputs": []
    },
    {
      "cell_type": "code",
      "source": [
        "model = Pipeline(steps=[\n",
        "    ('preprocessor', preprocessor),\n",
        "    ('regressor', RandomForestRegressor(n_estimators=100, random_state=42))\n",
        "])"
      ],
      "metadata": {
        "id": "Qrgn1gKMOSBs"
      },
      "execution_count": null,
      "outputs": []
    },
    {
      "cell_type": "code",
      "source": [
        "print(\"Training model.\")\n",
        "model.fit(x_train, y_train)\n",
        "print(\"Model training complete.\")"
      ],
      "metadata": {
        "colab": {
          "base_uri": "https://localhost:8080/"
        },
        "id": "HkV701jBOWCN",
        "outputId": "753a08bf-0f9b-4d89-947f-e1bfef41ff38"
      },
      "execution_count": null,
      "outputs": [
        {
          "output_type": "stream",
          "name": "stdout",
          "text": [
            "Training model.\n",
            "Model training complete.\n"
          ]
        }
      ]
    },
    {
      "cell_type": "code",
      "source": [
        "y_pred = model.predict(x_test)"
      ],
      "metadata": {
        "id": "IXroik3nO142"
      },
      "execution_count": null,
      "outputs": []
    },
    {
      "cell_type": "code",
      "source": [
        "mae = mean_absolute_error(y_test, y_pred)\n",
        "mse = mean_squared_error(y_test, y_pred)\n",
        "r2 = r2_score(y_test, y_pred)"
      ],
      "metadata": {
        "id": "oMRDQYgsOadd"
      },
      "execution_count": null,
      "outputs": []
    },
    {
      "cell_type": "code",
      "source": [
        "print(\"Model Metrics\")\n",
        "print(\"Mean absolute error (mae): \", mae)\n",
        "print(\"Root mean squared error (rmse): \", math.sqrt(mse))\n",
        "print(\"R-squaare: (R^2)- \", r2)"
      ],
      "metadata": {
        "colab": {
          "base_uri": "https://localhost:8080/"
        },
        "id": "5PA8zygTOi0g",
        "outputId": "f59bb9d5-dae6-425f-e9c8-9adffca74da3"
      },
      "execution_count": null,
      "outputs": [
        {
          "output_type": "stream",
          "name": "stdout",
          "text": [
            "Model Metrics\n",
            "Mean absolute error (mae):  4.706316666666667\n",
            "Root mean squared error (rmse):  6.039784233798809\n",
            "R-squaare: (R^2)-  0.8500894491340263\n"
          ]
        }
      ]
    }
  ]
}